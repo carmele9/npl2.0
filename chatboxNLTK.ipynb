{
 "cells": [
  {
   "cell_type": "code",
   "id": "initial_id",
   "metadata": {
    "collapsed": true
   },
   "source": [
    "import re\n",
    "import nltk\n",
    "import numpy as np\n",
    "import random\n",
    "import string\n",
    "\n",
    "\n",
    "nltk.download(\"punkt\")\n",
    "with open(\"movie_lines.txt/movie_lines.txt\", \"r\", encoding=\"iso-8859-1\") as archivo:\n",
    "    data = archivo.read()\n",
    "\n",
    "print(data[:5])"
   ],
   "outputs": [],
   "execution_count": null
  },
  {
   "metadata": {},
   "cell_type": "code",
   "source": [
    "prueba = \"L2457 +++$+++ u16 +++$+++ m1 +++$+++ COLUMBUS +++$+++ Thank you.\"\n",
    "pattern = re.match(r'L(.*\\+\\+\\+\\$\\+\\+\\+){4} ', prueba)\n",
    "print(pattern)\n",
    "prueba_sin = re.split(r'L(.*\\+\\+\\+\\$\\+\\+\\+){4} ', prueba)\n",
    "print(prueba_sin)\n",
    "prueba_sin2 = re.sub(r'L(.*\\+\\+\\+\\$\\+\\+\\+){4} ',\"\",prueba)\n",
    "print(prueba_sin2)"
   ],
   "id": "82ef585fc745fb0",
   "outputs": [],
   "execution_count": null
  },
  {
   "metadata": {},
   "cell_type": "code",
   "source": [
    "data1 = re.sub(r'L(.*\\+\\+\\+\\$\\+\\+\\+){4} ',\"\",data)\n",
    "print(data1[:1000])"
   ],
   "id": "dc8ad5c120249eb1",
   "outputs": [],
   "execution_count": null
  },
  {
   "metadata": {},
   "cell_type": "code",
   "source": [
    "tokens = nltk.word_tokenize(data1.lower())\n",
    "input_sequence = []\n",
    "output_sequence = []\n",
    "for i in range(len(tokens)-1):\n",
    "    input_sequence.append(tokens[i])\n",
    "    output_sequence.append(tokens[i+1])\n",
    "print(input_sequence[:30])\n",
    "input_sequence1 = np.array([nltk.word_tokenize(sec) for sec in input_sequence], dtype=object)\n",
    "input_sequence_list = input_sequence1.tolist()\n",
    "output_sequence1 = np.array([nltk.word_tokenize(sec) for sec in output_sequence], dtype=object)\n",
    "output_sequence_list = output_sequence1.tolist()\n",
    "print(input_sequence1[:30])\n"
   ],
   "id": "bbae364dd7e34304",
   "outputs": [],
   "execution_count": null
  },
  {
   "metadata": {},
   "cell_type": "code",
   "source": [
    "from tensorflow.keras import Sequential\n",
    "from tensorflow.keras.layers import Dense, LSTM, Embedding\n",
    "\n",
    "\n",
    "model = Sequential()\n",
    "model.add(Embedding(input_dim= len(tokens), output_dim=100))\n",
    "model.add(LSTM(256))\n",
    "model.add(Dense(len(tokens), activation= \"softmax\"))\n",
    "model.compile(loss = \"categorical_crossentropy\", optimizer= \"adam\", metrics = [\"accuracy\"])\n",
    "\n"
   ],
   "id": "2eab3f1d5d0a6c25",
   "outputs": [],
   "execution_count": null
  },
  {
   "metadata": {},
   "cell_type": "code",
   "source": "model.fit(input_sequence_list, output_sequence_list, epochs=100)",
   "id": "a9ae4af2d8c43331",
   "outputs": [],
   "execution_count": null
  },
  {
   "metadata": {},
   "cell_type": "code",
   "source": "",
   "id": "7ec23206b7949176",
   "outputs": [],
   "execution_count": null
  }
 ],
 "metadata": {
  "kernelspec": {
   "display_name": "Python 3",
   "language": "python",
   "name": "python3"
  },
  "language_info": {
   "codemirror_mode": {
    "name": "ipython",
    "version": 2
   },
   "file_extension": ".py",
   "mimetype": "text/x-python",
   "name": "python",
   "nbconvert_exporter": "python",
   "pygments_lexer": "ipython2",
   "version": "2.7.6"
  }
 },
 "nbformat": 4,
 "nbformat_minor": 5
}
