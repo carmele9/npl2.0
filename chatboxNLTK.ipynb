{
 "cells": [
  {
   "cell_type": "code",
   "id": "initial_id",
   "metadata": {
    "collapsed": true
   },
   "source": [
    "import re\n",
    "import nltk\n",
    "import numpy as np\n",
    "import random\n",
    "import string\n",
    "\n",
    "\n",
    "nltk.download(\"punkt\")\n",
    "with open(\"movie_lines.txt/movie_lines.txt\", \"r\", encoding=\"iso-8859-1\") as archivo:\n",
    "    data = archivo.read()\n",
    "\n",
    "print(data[:5])"
   ],
   "outputs": [],
   "execution_count": null
  },
  {
   "metadata": {},
   "cell_type": "code",
   "source": [
    "prueba = \"L2457 +++$+++ u16 +++$+++ m1 +++$+++ COLUMBUS +++$+++ Thank you.\"\n",
    "pattern = re.match(r'L(.*\\+\\+\\+\\$\\+\\+\\+){4} ', prueba)\n",
    "print(pattern)\n",
    "prueba_sin = re.split(r'L(.*\\+\\+\\+\\$\\+\\+\\+){4} ', prueba)\n",
    "print(prueba_sin)\n",
    "prueba_sin2 = re.sub(r'L(.*\\+\\+\\+\\$\\+\\+\\+){4} ',\"\",prueba)\n",
    "print(prueba_sin2)"
   ],
   "id": "82ef585fc745fb0",
   "outputs": [],
   "execution_count": null
  },
  {
   "metadata": {},
   "cell_type": "code",
   "source": [
    "data1 = re.sub(r'L(.*\\+\\+\\+\\$\\+\\+\\+){4} ',\"\",data)\n",
    "print(data1[:1000])\n",
    "data1 = data1[:10000]"
   ],
   "id": "dc8ad5c120249eb1",
   "outputs": [],
   "execution_count": null
  },
  {
   "metadata": {},
   "cell_type": "code",
   "source": [
    "from nltk.stem import WordNetLemmatizer\n",
    "\n",
    "lemmatizer = WordNetLemmatizer()"
   ],
   "id": "68d28a607c6ab098",
   "outputs": [],
   "execution_count": null
  },
  {
   "metadata": {},
   "cell_type": "code",
   "source": [
    "tokens = nltk.word_tokenize(data1.lower())\n",
    "input_sequence = []\n",
    "output_sequence = []\n",
    "words = []\n",
    "ignore_words = [\"?\", \"!\", \".\", \",\", \"--\"]\n",
    "for i in range(len(tokens)-1):\n",
    "    input_sequence.append(tokens[i])\n",
    "    output_sequence.append(tokens[i+1])\n",
    "    words.append(tokens[i])\n",
    "words.append(tokens[len(tokens)-1])\n",
    "    \n",
    "print(input_sequence[:30])\n",
    "print(words[:30])\n",
    "input_sequence1 = [lemmatizer.lemmatize(word.lower()) for word in input_sequence if word not in ignore_words]\n",
    "words = [lemmatizer.lemmatize(w.lower()) for w in words if w not in ignore_words]\n",
    "output_sequence1 = [lemmatizer.lemmatize(word.lower()) for word in output_sequence if word not in ignore_words]\n",
    "print(input_sequence1[:30])\n",
    "print(words[:30])\n",
    "word_2index = {}\n",
    "for i,w in enumerate(words):\n",
    "    word_2index[w] = i\n",
    "    \n",
    "onehot_input_sequence = []\n",
    "for word in input_sequence1:\n",
    "    vector = np.zeros(len(words))\n",
    "    vector[word_2index[word.lower()]] = 1\n",
    "    onehot_input_sequence.append(vector)\n",
    "    \n",
    "onehot_output_sequence = []\n",
    "for word in output_sequence1:\n",
    "    vector = np.zeros(len(words))\n",
    "    vector[word_2index[word.lower()]] = 1\n",
    "    onehot_output_sequence.append(vector)\n",
    "    \n",
    "print(onehot_input_sequence[:30])       \n",
    "input_sequence_array = np.array(onehot_input_sequence)\n",
    "output_sequence_array = np.array(onehot_output_sequence)\n",
    "print(input_sequence_array[:30])\n",
    "print(len(input_sequence_array))\n",
    "print(len(output_sequence_array))\n",
    "print(len(tokens))\n",
    "print(tokens[:50])\n",
    "print(words[:50])"
   ],
   "id": "bbae364dd7e34304",
   "outputs": [],
   "execution_count": null
  },
  {
   "metadata": {},
   "cell_type": "code",
   "source": [
    "from tensorflow.keras import Sequential\n",
    "from tensorflow.keras.layers import Dense, LSTM, Embedding\n",
    "\n",
    "\n",
    "model = Sequential()\n",
    "model.add(Embedding(input_dim= len(words), output_dim=100))\n",
    "model.add(LSTM(256))\n",
    "model.add(Dense(len(words), activation= \"softmax\"))\n",
    "model.compile(loss = \"categorical_crossentropy\", optimizer= \"adam\", metrics = [\"accuracy\"])\n",
    "\n"
   ],
   "id": "2eab3f1d5d0a6c25",
   "outputs": [],
   "execution_count": null
  },
  {
   "metadata": {},
   "cell_type": "code",
   "source": "model.fit(input_sequence_array, output_sequence_array, epochs=100)",
   "id": "a9ae4af2d8c43331",
   "outputs": [],
   "execution_count": null
  },
  {
   "metadata": {},
   "cell_type": "code",
   "source": [
    "def generarRespuesta(entrada):\n",
    "    sec_entrada = nltk.word_tokenize(entrada.lower())\n",
    "    words_entrada = [lemmatizer.lemmatize(w.lower()) for w in sec_entrada]\n",
    "    onehot_entrada = []\n",
    "    for word in words_entrada:\n",
    "        vector_entrada = np.zeros(len(words))\n",
    "        vector_entrada[word_2index[word.lower()]] = 1\n",
    "        onehot_entrada.append(vector_entrada)  \n",
    "    pred_one_hot = model.pred(onehot_entrada)\n",
    "    index_2words = {}\n",
    "    for i,w in enumerate(words):\n",
    "        index_2words[i] = w\n",
    "    pos = pred_one_hot.index(1)\n",
    "    pred = index_2words[pos]  \n",
    "    return pred"
   ],
   "id": "7ec23206b7949176",
   "outputs": [],
   "execution_count": null
  },
  {
   "metadata": {},
   "cell_type": "code",
   "source": [
    "entrada = input(\"Yo: \")\n",
    "len_entrada = len(entrada)\n",
    "for i in range (0,20):\n",
    "    pred = generarRespuesta(entrada)\n",
    "    entrada += pred\n",
    "print(\"Bot: \" + entrada[len_entrada:])"
   ],
   "id": "b2afa3e8222f6060",
   "outputs": [],
   "execution_count": null
  }
 ],
 "metadata": {
  "kernelspec": {
   "display_name": "Python 3",
   "language": "python",
   "name": "python3"
  },
  "language_info": {
   "codemirror_mode": {
    "name": "ipython",
    "version": 2
   },
   "file_extension": ".py",
   "mimetype": "text/x-python",
   "name": "python",
   "nbconvert_exporter": "python",
   "pygments_lexer": "ipython2",
   "version": "2.7.6"
  }
 },
 "nbformat": 4,
 "nbformat_minor": 5
}
