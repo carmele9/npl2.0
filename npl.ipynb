{
 "cells": [
  {
   "cell_type": "code",
   "id": "initial_id",
   "metadata": {
    "collapsed": true
   },
   "source": [
    "import nltk\n",
    "from nltk.corpus import movie_reviews\n",
    "\n",
    "movie_reviews.words()\n",
    "len(movie_reviews.words())\n",
    "movie_reviews.categories()\n",
    "nltk.FreqDist(movie_reviews.words())\n",
    "nltk.FreqDist(movie_reviews.words())[\"happy\"]\n",
    "nltk.FreqDist(movie_reviews.words()).most_common(15)\n",
    "movie_reviews.fileids()\n",
    "movie_reviews.fileids(\"pos\")\n",
    "movie_reviews.words(\"neg/cv001_19502.txt\")\n",
    "len(movie_reviews.fileids())"
   ],
   "outputs": [],
   "execution_count": null
  },
  {
   "metadata": {},
   "cell_type": "code",
   "source": [
    "all_words = nltk.FreqDist(movie_reviews.words())\n",
    "len(all_words)\n",
    "\n",
    "feature_vector = list(all_words)[:4000]  #Para ahorrarnos computacion reducimos el tam de la lista\n",
    "feature = {}\n",
    "review = movie_reviews.words(\"neg/cv954_19932.txt\")\n",
    "\n",
    "for x in range(len(feature_vector)):\n",
    "    feature[feature_vector[x]] = feature_vector[x] in review\n",
    "    \n",
    "    \n",
    "[x for x in feature_vector if feature[x] == True]"
   ],
   "id": "1cb85f0ae93aa5c0",
   "outputs": [],
   "execution_count": null
  },
  {
   "metadata": {},
   "cell_type": "code",
   "source": [
    "document = [(movie_reviews.words(fileid), category) for fileid in movie_reviews.fileids() for category in movie_reviews.categories(fileid)]\n",
    "len(document)\n",
    "print(type(document))\n",
    "document1 = document[:50]\n",
    "document2 = document[1950:]\n",
    "document1.extend(document2)\n",
    "document = document1\n"
   ],
   "id": "49dffca17368e622",
   "outputs": [],
   "execution_count": null
  },
  {
   "metadata": {},
   "cell_type": "code",
   "source": [
    "def find_feature(word_list):\n",
    "    feature = {}\n",
    "    for x in feature_vector:\n",
    "        feature[x] = x in word_list\n",
    "    return feature"
   ],
   "id": "b0b7c5da24c0fffe",
   "outputs": [],
   "execution_count": null
  },
  {
   "metadata": {},
   "cell_type": "code",
   "source": "find_feature(document[0][0])  #Si encuentra palabra True y viceversa",
   "id": "5f6c485ade980b57",
   "outputs": [],
   "execution_count": null
  },
  {
   "metadata": {},
   "cell_type": "code",
   "source": "feature_sets = [(find_feature(word_list), category) for (word_list, category) in document]",
   "id": "666e6e661cff05ae",
   "outputs": [],
   "execution_count": null
  },
  {
   "metadata": {},
   "cell_type": "code",
   "source": [
    "from nltk. classify.scikitlearn import SklearnClassifier\n",
    "from sklearn.svm import SVC\n",
    "from sklearn import model_selection\n",
    "\n",
    "train_set, test_set = model_selection.train_test_split(feature_sets, test_size=0.25)\n",
    "print(len(train_set))\n",
    "print(len(test_set))"
   ],
   "id": "1299b74a0933382d",
   "outputs": [],
   "execution_count": null
  },
  {
   "metadata": {},
   "cell_type": "code",
   "source": [
    "model = SklearnClassifier(SVC(kernel = \"linear\"))\n",
    "model.train(train_set)"
   ],
   "id": "d783770dd7e43d19",
   "outputs": [],
   "execution_count": null
  },
  {
   "metadata": {},
   "cell_type": "code",
   "source": [
    "accuracy = nltk.classify.accuracy(model, test_set)\n",
    "print(accuracy)"
   ],
   "id": "e18ce0c430b7a2fe",
   "outputs": [],
   "execution_count": null
  },
  {
   "metadata": {},
   "cell_type": "code",
   "source": "",
   "id": "62e6bc849ee653e4",
   "outputs": [],
   "execution_count": null
  }
 ],
 "metadata": {
  "kernelspec": {
   "display_name": "Python 3",
   "language": "python",
   "name": "python3"
  },
  "language_info": {
   "codemirror_mode": {
    "name": "ipython",
    "version": 2
   },
   "file_extension": ".py",
   "mimetype": "text/x-python",
   "name": "python",
   "nbconvert_exporter": "python",
   "pygments_lexer": "ipython2",
   "version": "2.7.6"
  }
 },
 "nbformat": 4,
 "nbformat_minor": 5
}
