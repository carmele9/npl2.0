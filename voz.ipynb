{
 "cells": [
  {
   "cell_type": "code",
   "id": "initial_id",
   "metadata": {
    "collapsed": true,
    "ExecuteTime": {
     "end_time": "2024-10-16T18:38:24.883730Z",
     "start_time": "2024-10-16T18:38:24.878749Z"
    }
   },
   "source": [
    "import random\n",
    "import time\n",
    "import speech_recognition as sr\n",
    "\n",
    "def recogSpeechFromMicrophone(recognizer, microphone):\n",
    "    if not isinstance(recognizer, sr.Recognizer):\n",
    "        raise TypeError(\"Recognizer invalid\")\n",
    "    if not isinstance(microphone, sr.Microphone):\n",
    "        raise TypeError(\"Microphone invalid\")\n",
    "    \n",
    "    #Manejamos el ruido de fondo \n",
    "    with microphone as source:\n",
    "        recognizer.adjust_for_ambient_noise(source)\n",
    "        audio = recognizer.listen(source)\n",
    "        \n",
    "    #Guardamos la respuesta del microfono\n",
    "    response = {\n",
    "        \"success\": True, #Si el request se pudo hacer o no\n",
    "        \"error\": None, #Si ocurre algun error\n",
    "        \"transcription\": None #None si no se ha podido hacer, string con la transcripcion \n",
    "    }\n",
    "    \n",
    "    #Hacemos el request y manejamos los posibles errores\n",
    "    try:\n",
    "        response[\"transcription\"] = recognizer.recognize_google(audio, language= \"es-ES\")\n",
    "    except sr.RequestError: #No tiene acceso a la api de google\n",
    "        response[\"success\"] = False\n",
    "        response[\"error\"] = \"API unavailable\"\n",
    "    except sr.UnknownValueError:\n",
    "        response[\"error\"] = \"Unable to recognise speech\" #No se entiende lo que se dice\n",
    "    \n",
    "    return response\n",
    "    "
   ],
   "outputs": [],
   "execution_count": 16
  },
  {
   "metadata": {
    "ExecuteTime": {
     "end_time": "2024-10-16T18:38:57.892143Z",
     "start_time": "2024-10-16T18:38:31.483205Z"
    }
   },
   "cell_type": "code",
   "source": [
    "if __name__ == \"__main__\":\n",
    "    WORDS =[\"manzana\", \"plátano\", \"uvas\", \"kiwi\", \"fresas\", \"arándanos\", \"frambuesa\", \"mango\", \"piña\"]\n",
    "    NUM_GUESS = 4\n",
    "    PROMPT_LIMIT = 5\n",
    "    recognizer = sr.Recognizer()\n",
    "    microphone = sr.Microphone()\n",
    "    word = random.choice(WORDS)\n",
    "    instructions = (\n",
    "        \"Estoy pensando en una de estas palabras: \\n\"\n",
    "        \"{words}\\n\"\n",
    "        \"Tienes {n} intentos para adivinarla \\n\"\n",
    "    ).format(words = \", \".join(WORDS), n = NUM_GUESS)\n",
    "    print(instructions)\n",
    "    time.sleep(3) #Dejamos dormir durante tres segundos\n",
    "    for i in range(NUM_GUESS):\n",
    "        for j in range(PROMPT_LIMIT):\n",
    "            print(\"Intento {}. Habla!\".format(i+1))\n",
    "            guess = recogSpeechFromMicrophone(recognizer, microphone)\n",
    "            if guess[\"transcription\"]:\n",
    "                break\n",
    "            if not guess[\"success\"]:\n",
    "                break\n",
    "            print(\"No he entendido lo que has dicho. ¿Puedes repetir? \\n\")\n",
    "        if guess[\"error\"]:\n",
    "            print(\"ERROR: {}\".format(guess[\"error\"]))\n",
    "            break\n",
    "        print(\"Has dicho: {}\".format(guess[\"transcription\"]))\n",
    "        guess_is_correct = guess[\"transcription\"].lower() == word.lower()\n",
    "        more_attempts = i < NUM_GUESS - 1\n",
    "        \n",
    "        if guess_is_correct:\n",
    "            print(\"Correcto: HAS GANADO!!! ESTA ERA LA PALABRA QUE ESTABA PENSANDO {}\".format(word))\n",
    "            break\n",
    "        elif more_attempts:\n",
    "            print(\"Incorrecto: INTENTALO DE NUEVO \\n\")\n",
    "        else:\n",
    "            print(\"GAME OVER: ESTABA PENSANDO EN {}\".format(word))\n",
    "            break\n",
    "            \n",
    "            \n",
    "    "
   ],
   "id": "d686b8c19cbcbe72",
   "outputs": [
    {
     "name": "stdout",
     "output_type": "stream",
     "text": [
      "Estoy pensando en una de estas palabras: \n",
      "manzana, plátano, uvas, kiwi, fresas, arándanos, frambuesa, mango, piña\n",
      "Tienes 4 intentos para adivinarla \n",
      "\n",
      "Intento 1. Habla!\n",
      "Has dicho: plátano y las patatas ni el refresco qué crees que ha pasado que la hamburguesa es mejor\n",
      "Incorrecto: INTENTALO DE NUEVO \n",
      "\n",
      "Intento 2. Habla!\n",
      "Has dicho: uvas\n",
      "Incorrecto: INTENTALO DE NUEVO \n",
      "\n",
      "Intento 3. Habla!\n",
      "Has dicho: kiwi\n",
      "Incorrecto: INTENTALO DE NUEVO \n",
      "\n",
      "Intento 4. Habla!\n",
      "Has dicho: mango\n",
      "Correcto: HAS GANADO!!! ESTA ERA LA PALABRA QUE ESTABA PENSANDO mango\n"
     ]
    }
   ],
   "execution_count": 17
  },
  {
   "metadata": {},
   "cell_type": "code",
   "source": "",
   "id": "aa9c9a16d1f07987",
   "outputs": [],
   "execution_count": null
  },
  {
   "metadata": {},
   "cell_type": "code",
   "source": "",
   "id": "af284f33180b16bd",
   "outputs": [],
   "execution_count": null
  }
 ],
 "metadata": {
  "kernelspec": {
   "display_name": "Python 3",
   "language": "python",
   "name": "python3"
  },
  "language_info": {
   "codemirror_mode": {
    "name": "ipython",
    "version": 2
   },
   "file_extension": ".py",
   "mimetype": "text/x-python",
   "name": "python",
   "nbconvert_exporter": "python",
   "pygments_lexer": "ipython2",
   "version": "2.7.6"
  }
 },
 "nbformat": 4,
 "nbformat_minor": 5
}
