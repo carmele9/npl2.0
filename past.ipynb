{
 "cells": [
  {
   "cell_type": "code",
   "id": "initial_id",
   "metadata": {
    "collapsed": true
   },
   "source": [
    "import nltk\n",
    "from nltk.tokenize import word_tokenize\n",
    "from nltk import pos_tag\n",
    "\n",
    "#Frase para hacer tag (analisis morfologico)\n",
    "text = \"You are welcome to take this course at your own pace.\"\n",
    "\n",
    "words = word_tokenize(text) #Tokenizamos el texto en palabras\n",
    "pos_tags = pos_tag(words) #Analisis Morfologico\n",
    "print(\"Original text: \")\n",
    "print(text)\n",
    "print(\"\\n Pos Result: \")\n",
    "for word, pos_tag in pos_tags:\n",
    "    print(f\"{word}: {pos_tag}\")"
   ],
   "outputs": [],
   "execution_count": null
  },
  {
   "metadata": {},
   "cell_type": "code",
   "source": [
    "import spacy \n",
    "!python -m spacy download en_core_web_sm\n",
    "#Cargamos el modelo del idioma \n",
    "nlp = spacy.load(\"en_core_web_sm\")\n",
    "\n",
    "#Frase para hacer tag (analisis morfologico)\n",
    "text = \"You are welcome to take this course at your own pace.\"\n",
    "\n",
    "#Procesamiento de texto: te lo hace, incluido\n",
    "doc = nlp(text)\n",
    "\n",
    "print(\"Original text: \")\n",
    "print(text)\n",
    "print(\"\\n Pos Result: \")\n",
    "for token in doc:\n",
    "    print(f\"{token.text}: {token.pos_}\")"
   ],
   "id": "64e6b974dabd45d5",
   "outputs": [],
   "execution_count": null
  },
  {
   "metadata": {},
   "cell_type": "code",
   "source": "",
   "id": "16e13cc4a43e621c",
   "outputs": [],
   "execution_count": null
  }
 ],
 "metadata": {
  "kernelspec": {
   "display_name": "Python 3",
   "language": "python",
   "name": "python3"
  },
  "language_info": {
   "codemirror_mode": {
    "name": "ipython",
    "version": 2
   },
   "file_extension": ".py",
   "mimetype": "text/x-python",
   "name": "python",
   "nbconvert_exporter": "python",
   "pygments_lexer": "ipython2",
   "version": "2.7.6"
  }
 },
 "nbformat": 4,
 "nbformat_minor": 5
}
