{
 "cells": [
  {
   "metadata": {},
   "cell_type": "code",
   "source": [
    "import nltk \n",
    "from nltk.corpus import state_union\n",
    "from nltk.tokenize import PunktSentenceTokenizer\n",
    "\n",
    "train_text = state_union.raw(\"2005-GWBush.txt\")\n",
    "sample_text = state_union.raw(\"2006-GWBush.txt\")\n",
    "print(train_text[:500])\n",
    "print(sample_text[:500])"
   ],
   "id": "ca6bc6a0d3c8546",
   "outputs": [],
   "execution_count": null
  },
  {
   "metadata": {},
   "cell_type": "code",
   "source": [
    "#Primero se debe entrenar el PunKTSentenceTokenizer y despues se le pasa el sample_text para tokenizarlo por frases\n",
    "#Atencion: cuando mas parecido sea el texto que se le pase para entrenar, mas efectivo será\n",
    "custom_sent_tokenizer = PunktSentenceTokenizer(train_text) #Puntuacion: te saca las frases; sentence boundary detection algorithm\n",
    "tokenized = custom_sent_tokenizer.tokenize(sample_text)\n",
    "print(tokenized[:500])"
   ],
   "id": "b4a41838e5d9bc07",
   "outputs": [],
   "execution_count": null
  },
  {
   "metadata": {},
   "cell_type": "code",
   "source": [
    "def process_content():\n",
    "    try:\n",
    "        for i in tokenized:\n",
    "            words = nltk.word_tokenize(i)\n",
    "            tagged = nltk.pos_tag(words)\n",
    "            #Gramatica del chunk y donde metemos las expresiones regulares: * 0 o mas, + 1 a mas, ? 0/1, . cualquier caracter que pueda aparecer\n",
    "            chunk_gram = r\"\"\" chunk: {<RB.?>*<VB.?>*<NNP>+<NN>?}\"\"\" #Detecta grupos de nombres propios mas lo que vaya pegado\n",
    "            chunk_parsed = nltk.RegexpParser(chunk_gram)\n",
    "            chunked = chunk_parsed.parse(tagged)\n",
    "            chunked.draw()\n",
    "    except Exception as e:\n",
    "        print(str(e))"
   ],
   "id": "c0b2968b4f7a4d9d",
   "outputs": [],
   "execution_count": null
  },
  {
   "metadata": {},
   "cell_type": "code",
   "source": "process_content()",
   "id": "98ee7218ad2aa2a9",
   "outputs": [],
   "execution_count": null
  },
  {
   "metadata": {},
   "cell_type": "code",
   "source": "",
   "id": "828b7ba5f13f5905",
   "outputs": [],
   "execution_count": null
  }
 ],
 "metadata": {
  "kernelspec": {
   "display_name": "Python 3",
   "language": "python",
   "name": "python3"
  },
  "language_info": {
   "codemirror_mode": {
    "name": "ipython",
    "version": 2
   },
   "file_extension": ".py",
   "mimetype": "text/x-python",
   "name": "python",
   "nbconvert_exporter": "python",
   "pygments_lexer": "ipython2",
   "version": "2.7.6"
  }
 },
 "nbformat": 4,
 "nbformat_minor": 5
}
