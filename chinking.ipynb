{
 "cells": [
  {
   "cell_type": "code",
   "id": "initial_id",
   "metadata": {
    "collapsed": true
   },
   "source": "#El chinking es eliminar chunks de un chunk. La diferencia respecto a chunking: El chunking cojes la estructura y el chinkoing es la excepcion.",
   "outputs": [],
   "execution_count": null
  },
  {
   "metadata": {},
   "cell_type": "code",
   "source": [
    "import nltk \n",
    "from nltk.corpus import state_union\n",
    "from nltk.tokenize import PunktSentenceTokenizer\n",
    "\n",
    "train_text = state_union.raw(\"2005-GWBush.txt\")\n",
    "sample_text = state_union.raw(\"2006-GWBush.txt\")"
   ],
   "id": "61c1db41d471770b",
   "outputs": [],
   "execution_count": null
  },
  {
   "metadata": {},
   "cell_type": "code",
   "source": [
    "custom_sent_tokenizer = PunktSentenceTokenizer(train_text) #Puntuacion: te saca las frases; sentence boundary detection algorithm\n",
    "tokenized = custom_sent_tokenizer.tokenize(sample_text)"
   ],
   "id": "ce338c6633ad8bea",
   "outputs": [],
   "execution_count": null
  },
  {
   "metadata": {},
   "cell_type": "code",
   "source": [
    "def process_content():\n",
    "    try:\n",
    "        for i in tokenized:\n",
    "            words = nltk.word_tokenize(i)\n",
    "            tagged = nltk.pos_tag(words)\n",
    "            #Gramatica del chunk y donde metemos las expresiones regulares: * 0 o mas, + 1 a mas, ? 0/1, . cualquier caracter que pueda aparecer\n",
    "            chunk_gram = r\"\"\" chunk: {<.*>+}\n",
    "                                        }<VB.?|IN|DT|TO>+{\"\"\" #Detecta menos verbos, preposiciones y determinantes y TO\n",
    "            chunk_parsed = nltk.RegexpParser(chunk_gram)\n",
    "            chunked = chunk_parsed.parse(tagged)\n",
    "            print(chunked)\n",
    "            for subtree in chunked.subtrees(filter=lambda t: t.label()== \"chunk\"):\n",
    "                print(subtree)\n",
    "            chunked.draw()\n",
    "    except Exception as e:\n",
    "        print(str(e))"
   ],
   "id": "c9270cf3511ea3af",
   "outputs": [],
   "execution_count": null
  },
  {
   "metadata": {},
   "cell_type": "code",
   "source": "process_content()",
   "id": "2f007eed51b0fa4c",
   "outputs": [],
   "execution_count": null
  },
  {
   "metadata": {},
   "cell_type": "code",
   "source": "",
   "id": "b8b5e90086528493",
   "outputs": [],
   "execution_count": null
  }
 ],
 "metadata": {
  "kernelspec": {
   "display_name": "Python 3",
   "language": "python",
   "name": "python3"
  },
  "language_info": {
   "codemirror_mode": {
    "name": "ipython",
    "version": 2
   },
   "file_extension": ".py",
   "mimetype": "text/x-python",
   "name": "python",
   "nbconvert_exporter": "python",
   "pygments_lexer": "ipython2",
   "version": "2.7.6"
  }
 },
 "nbformat": 4,
 "nbformat_minor": 5
}
